{
  "nbformat": 4,
  "nbformat_minor": 0,
  "metadata": {
    "colab": {
      "provenance": []
    },
    "kernelspec": {
      "name": "python3",
      "display_name": "Python 3"
    },
    "language_info": {
      "name": "python"
    }
  },
  "cells": [
    {
      "cell_type": "markdown",
      "source": [
        "### Downloading NIFTY-50 Index tickers ie 50 companies as 50 sheets in 1 excel file"
      ],
      "metadata": {
        "id": "hV7T6ish_FVn"
      }
    },
    {
      "cell_type": "code",
      "source": [
        "!pip install XlsxWriter"
      ],
      "metadata": {
        "id": "UIl7XHQU_Hfg"
      },
      "execution_count": null,
      "outputs": []
    },
    {
      "cell_type": "code",
      "source": [
        "import pandas as pd\n",
        "import yfinance as yf\n",
        "import datetime\n",
        "\n",
        "# List of Nifty 50 stock symbols\n",
        "stock_symbols = ['ADANIENT.NS', 'ADANIPORTS.NS', 'APOLLOHOSP.NS', 'ASIANPAINT.NS', 'AXISBANK.NS', 'BAJAJ-AUTO.NS', 'BAJFINANCE.NS', 'BAJAJFINSV.NS', 'BPCL.NS', 'BHARTIARTL.NS', 'BRITANNIA.NS', 'CIPLA.NS', 'COALINDIA.NS', 'DIVISLAB.NS', 'DRREDDY.NS', 'EICHERMOT.NS', 'GRASIM.NS', 'HCLTECH.NS', 'HDFCBANK.NS', 'HDFCLIFE.NS', 'HEROMOTOCO.NS', 'HINDALCO.NS', 'HINDUNILVR.NS', 'ICICIBANK.NS', 'INDUSINDBK.NS', 'INFY.NS', 'ITC.NS', 'JSWSTEEL.NS', 'KOTAKBANK.NS', 'LT.NS', 'LTIM.NS', 'M&M.NS', 'MARUTI.NS', 'NESTLEIND.NS', 'NTPC.NS', 'ONGC.NS', 'POWERGRID.NS', 'RELIANCE.NS', 'SBILIFE.NS', 'SBIN.NS', 'SUNPHARMA.NS', 'TATAMOTORS.NS', 'TATASTEEL.NS', 'TCS.NS', 'TATACONSUM.NS', 'TECHM.NS', 'TITAN.NS', 'ULTRACEMCO.NS', 'UPL.NS', 'WIPRO.NS']\n",
        "\n",
        "# Define the start and end dates for the historical data\n",
        "start_date = datetime.datetime(2008, 8, 1)\n",
        "end_date = datetime.datetime(2023, 8, 1)\n",
        "\n",
        "# Create an Excel writer to save data to an Excel file\n",
        "excel_writer = pd.ExcelWriter('nifty50_stock_data.xlsx', engine='xlsxwriter')\n",
        "\n",
        "# Loop through stock symbols and fetch data\n",
        "for symbol in stock_symbols:\n",
        "    try:\n",
        "        # Fetch historical data from Yahoo Finance using yfinance\n",
        "        history = yf.download(symbol, start=start_date, end=end_date, interval='1d', prepost=False)\n",
        "\n",
        "        # Add the data to the Excel writer with the stock symbol as the sheet name\n",
        "        history.to_excel(excel_writer, sheet_name=symbol)\n",
        "\n",
        "        print(f\"Data for {symbol} added to the Excel file.\")\n",
        "    except Exception as e:\n",
        "        print(f\"Error fetching data for {symbol}: {str(e)}\")\n",
        "\n",
        "# Save and close the Excel file\n",
        "excel_writer.save()\n",
        "excel_writer.close()\n",
        "\n",
        "print(\"All Nifty 50 stock data saved to 'nifty50_stock_data.xlsx'.\")"
      ],
      "metadata": {
        "id": "kKJb-iY-_KqO"
      },
      "execution_count": null,
      "outputs": []
    }
  ]
}